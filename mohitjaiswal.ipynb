{
  "nbformat": 4,
  "nbformat_minor": 0,
  "metadata": {
    "colab": {
      "provenance": [],
      "authorship_tag": "ABX9TyP2/RJ/xMAnNta57xc18MxQ",
      "include_colab_link": true
    },
    "kernelspec": {
      "name": "python3",
      "display_name": "Python 3"
    },
    "language_info": {
      "name": "python"
    }
  },
  "cells": [
    {
      "cell_type": "markdown",
      "metadata": {
        "id": "view-in-github",
        "colab_type": "text"
      },
      "source": [
        "<a href=\"https://colab.research.google.com/github/mohhhiitt/mohhhiitt/blob/main/mohitjaiswal.ipynb\" target=\"_parent\"><img src=\"https://colab.research.google.com/assets/colab-badge.svg\" alt=\"Open In Colab\"/></a>"
      ]
    },
    {
      "cell_type": "code",
      "execution_count": null,
      "metadata": {
        "colab": {
          "base_uri": "https://localhost:8080/"
        },
        "id": "FmrIsn-_Hq28",
        "outputId": "ecd1b4c8-1940-4c35-e9b9-740c2a8b3169"
      },
      "outputs": [
        {
          "output_type": "stream",
          "name": "stdout",
          "text": [
            "hello mohit\n"
          ]
        }
      ],
      "source": [
        "print(\"hello mohit\")"
      ]
    },
    {
      "cell_type": "code",
      "source": [
        "a=20; b=30\n",
        "print(\"sum is\",a+b)"
      ],
      "metadata": {
        "colab": {
          "base_uri": "https://localhost:8080/"
        },
        "id": "5IYaNoKiH8Vj",
        "outputId": "3e20c10d-3af3-4dae-c990-99c7cb595503"
      },
      "execution_count": null,
      "outputs": [
        {
          "output_type": "stream",
          "name": "stdout",
          "text": [
            "sum is 50\n"
          ]
        }
      ]
    },
    {
      "cell_type": "code",
      "source": [
        "a=10; b=20\n",
        "print(\"difference is\", a-b)"
      ],
      "metadata": {
        "colab": {
          "base_uri": "https://localhost:8080/"
        },
        "id": "LMv9dT7JIMlv",
        "outputId": "0589e9b0-4e8e-4c50-8c86-34d8f8719341"
      },
      "execution_count": null,
      "outputs": [
        {
          "output_type": "stream",
          "name": "stdout",
          "text": [
            "difference is -10\n"
          ]
        }
      ]
    },
    {
      "cell_type": "code",
      "source": [
        "a=10; b=20\n",
        "print(\"product is\",a*b)"
      ],
      "metadata": {
        "colab": {
          "base_uri": "https://localhost:8080/"
        },
        "id": "VnROVMpcIcN4",
        "outputId": "fd984135-5648-47eb-deb4-a1fb15dd6cb5"
      },
      "execution_count": null,
      "outputs": [
        {
          "output_type": "stream",
          "name": "stdout",
          "text": [
            "product is 200\n"
          ]
        }
      ]
    },
    {
      "cell_type": "code",
      "source": [
        "a=20;b=3\n",
        "print(\"result is\",a/b)"
      ],
      "metadata": {
        "colab": {
          "base_uri": "https://localhost:8080/"
        },
        "id": "Dv4MnEZyIln8",
        "outputId": "35d3229d-22a7-4277-d0ca-8d2feb5d23d8"
      },
      "execution_count": null,
      "outputs": [
        {
          "output_type": "stream",
          "name": "stdout",
          "text": [
            "result is 6.666666666666667\n"
          ]
        }
      ]
    },
    {
      "cell_type": "code",
      "source": [
        "base=20;hieght=30\n",
        "print(\"area of triangle is\",1/2*base*hieght)"
      ],
      "metadata": {
        "colab": {
          "base_uri": "https://localhost:8080/"
        },
        "id": "QawBBVk7It4T",
        "outputId": "fe29c46c-7fb2-44b2-c36a-e8e2bfc29f8d"
      },
      "execution_count": null,
      "outputs": [
        {
          "output_type": "stream",
          "name": "stdout",
          "text": [
            "area of triangle is 300.0\n"
          ]
        }
      ]
    },
    {
      "cell_type": "code",
      "source": [
        "a=12;b=20\n",
        "if a>b:\n",
        "  print(\"a is greater\")\n",
        "else:\n",
        "  print(\"b is greater\")"
      ],
      "metadata": {
        "colab": {
          "base_uri": "https://localhost:8080/"
        },
        "id": "OH9FLMVwI7Zt",
        "outputId": "b482d232-6856-427f-873d-d3fc8e0384ac"
      },
      "execution_count": null,
      "outputs": [
        {
          "output_type": "stream",
          "name": "stdout",
          "text": [
            "b is greater\n"
          ]
        }
      ]
    },
    {
      "cell_type": "code",
      "source": [
        "def maximum(x,y,z):\n",
        "  if (x>y) and (x>z):\n",
        "    largest = x\n",
        "  elif (y>z) and (y>x):\n",
        "    largest=y\n",
        "  else:\n",
        "    largest=z"
      ],
      "metadata": {
        "id": "AG4fPJqHJP4q"
      },
      "execution_count": null,
      "outputs": []
    },
    {
      "cell_type": "code",
      "source": [
        "import math\n",
        "math.sqrt(81)"
      ],
      "metadata": {
        "colab": {
          "base_uri": "https://localhost:8080/"
        },
        "id": "4tNkwKevKHrs",
        "outputId": "54f03e95-01a2-4b1e-8c75-f23299c937d8"
      },
      "execution_count": null,
      "outputs": [
        {
          "output_type": "execute_result",
          "data": {
            "text/plain": [
              "9.0"
            ]
          },
          "metadata": {},
          "execution_count": 11
        }
      ]
    },
    {
      "cell_type": "code",
      "source": [
        "import math\n",
        "math.factorial(17)"
      ],
      "metadata": {
        "colab": {
          "base_uri": "https://localhost:8080/"
        },
        "id": "VY-1sW1qKQYM",
        "outputId": "d934e182-ad13-40fd-f6fd-9f45fd8a0332"
      },
      "execution_count": null,
      "outputs": [
        {
          "output_type": "execute_result",
          "data": {
            "text/plain": [
              "355687428096000"
            ]
          },
          "metadata": {},
          "execution_count": 12
        }
      ]
    },
    {
      "cell_type": "code",
      "source": [
        "import math\n",
        "math.pow(5,6)"
      ],
      "metadata": {
        "colab": {
          "base_uri": "https://localhost:8080/"
        },
        "id": "14YTo7XJKZG1",
        "outputId": "3d9d33eb-dbdd-4525-a1f1-edb628386c90"
      },
      "execution_count": null,
      "outputs": [
        {
          "output_type": "execute_result",
          "data": {
            "text/plain": [
              "15625.0"
            ]
          },
          "metadata": {},
          "execution_count": 13
        }
      ]
    },
    {
      "cell_type": "code",
      "source": [
        "import math\n",
        "math.pi"
      ],
      "metadata": {
        "colab": {
          "base_uri": "https://localhost:8080/"
        },
        "id": "L1Jadwl0KdhM",
        "outputId": "a2eeec35-24d7-4295-bd9a-eb85077af7f3"
      },
      "execution_count": null,
      "outputs": [
        {
          "output_type": "execute_result",
          "data": {
            "text/plain": [
              "3.141592653589793"
            ]
          },
          "metadata": {},
          "execution_count": 16
        }
      ]
    },
    {
      "cell_type": "code",
      "source": [
        "import math\n",
        "a=int(input(\"enter a:\"))\n",
        "b=int(input(\"enter b:\"))\n",
        "c=int(input(\"enter c:\"))\n",
        "d=(b**2)-(4*a*c)\n",
        "if d>0:\n",
        "  print(\"roots are real and distinct\")\n",
        "  x1=(-b+math.sqrt(d))/(2*a)\n",
        "  x2=(-b-math.sqrt(d))/(2*a)\n",
        "  print(\"x1=\",x1)\n",
        "  print(\"x2=\",x2)\n",
        "elif d==0:\n",
        "  print(\"roots are real and equal\")\n",
        "  x=(-b)/(2*a)\n",
        "  print(\"x=\",x)\n",
        "else:\n",
        "  print(\"roots are complex\")\n"
      ],
      "metadata": {
        "colab": {
          "base_uri": "https://localhost:8080/"
        },
        "id": "W3Z9JKjsKsOC",
        "outputId": "4230af4e-99a5-46a8-cb7e-718b1ad9a132"
      },
      "execution_count": null,
      "outputs": [
        {
          "output_type": "stream",
          "name": "stdout",
          "text": [
            "enter a:2\n",
            "enter b:3\n",
            "enter c:3\n",
            "roots are complex\n"
          ]
        }
      ]
    },
    {
      "cell_type": "code",
      "source": [
        "input(\"\")"
      ],
      "metadata": {
        "colab": {
          "base_uri": "https://localhost:8080/",
          "height": 53
        },
        "id": "xwdiu6uaLK2c",
        "outputId": "b434c7af-fa7d-46ad-eef0-4b45b0a7c883"
      },
      "execution_count": null,
      "outputs": [
        {
          "name": "stdout",
          "output_type": "stream",
          "text": [
            "my name is mohit jaiswal\n"
          ]
        },
        {
          "output_type": "execute_result",
          "data": {
            "text/plain": [
              "'my name is mohit jaiswal'"
            ],
            "application/vnd.google.colaboratory.intrinsic+json": {
              "type": "string"
            }
          },
          "metadata": {},
          "execution_count": 18
        }
      ]
    },
    {
      "cell_type": "code",
      "source": [
        "import math\n",
        "pie=math.pi\n",
        "r=5\n",
        "print('area of circle is=',pie*r*r)"
      ],
      "metadata": {
        "colab": {
          "base_uri": "https://localhost:8080/"
        },
        "id": "NC8VRrGpLywj",
        "outputId": "f8ec010e-dfd7-417c-c7ff-f234a6602600"
      },
      "execution_count": null,
      "outputs": [
        {
          "output_type": "stream",
          "name": "stdout",
          "text": [
            "area of circle is= 78.53981633974483\n"
          ]
        }
      ]
    },
    {
      "cell_type": "code",
      "source": [
        "y='quencher'\n",
        "s='fluroesence'\n",
        "s[ :]"
      ],
      "metadata": {
        "colab": {
          "base_uri": "https://localhost:8080/",
          "height": 36
        },
        "id": "7z557wmTMG0t",
        "outputId": "950237b9-6c54-4c21-da21-75a1b860d114"
      },
      "execution_count": null,
      "outputs": [
        {
          "output_type": "execute_result",
          "data": {
            "text/plain": [
              "'fluroesence'"
            ],
            "application/vnd.google.colaboratory.intrinsic+json": {
              "type": "string"
            }
          },
          "metadata": {},
          "execution_count": 26
        }
      ]
    },
    {
      "cell_type": "code",
      "source": [
        "y='quencher'\n",
        "s='fluroesence'\n",
        "s[ :6]"
      ],
      "metadata": {
        "colab": {
          "base_uri": "https://localhost:8080/",
          "height": 36
        },
        "id": "GJB2grVcMpwZ",
        "outputId": "6851fa8a-74e8-4c70-87b2-8ef6487f0ee0"
      },
      "execution_count": null,
      "outputs": [
        {
          "output_type": "execute_result",
          "data": {
            "text/plain": [
              "'fluroe'"
            ],
            "application/vnd.google.colaboratory.intrinsic+json": {
              "type": "string"
            }
          },
          "metadata": {},
          "execution_count": 27
        }
      ]
    },
    {
      "cell_type": "code",
      "source": [
        "y='quencher'\n",
        "s='fluroesence'\n",
        "s[2:-7]"
      ],
      "metadata": {
        "colab": {
          "base_uri": "https://localhost:8080/",
          "height": 36
        },
        "outputId": "4695806c-1ec7-45a0-9560-27db25c91a4a",
        "id": "VIqfLi5TNPfg"
      },
      "execution_count": null,
      "outputs": [
        {
          "output_type": "execute_result",
          "data": {
            "text/plain": [
              "'ur'"
            ],
            "application/vnd.google.colaboratory.intrinsic+json": {
              "type": "string"
            }
          },
          "metadata": {},
          "execution_count": 29
        }
      ]
    },
    {
      "cell_type": "code",
      "source": [
        "y='quencher'\n",
        "s='fluroesence'\n",
        "s[2:-4]"
      ],
      "metadata": {
        "colab": {
          "base_uri": "https://localhost:8080/",
          "height": 36
        },
        "outputId": "808896e6-d4a8-4ac4-ffa7-08d7ce4570ad",
        "id": "71pWY0uWNOoN"
      },
      "execution_count": null,
      "outputs": [
        {
          "output_type": "execute_result",
          "data": {
            "text/plain": [
              "'uroes'"
            ],
            "application/vnd.google.colaboratory.intrinsic+json": {
              "type": "string"
            }
          },
          "metadata": {},
          "execution_count": 31
        }
      ]
    },
    {
      "cell_type": "code",
      "source": [
        "y='quencher'\n",
        "s='fluroesence'\n",
        "s+y"
      ],
      "metadata": {
        "colab": {
          "base_uri": "https://localhost:8080/",
          "height": 36
        },
        "outputId": "b2c3ca9f-d008-4d5e-e77f-a20ae51332b5",
        "id": "Rr-U8rfvNow1"
      },
      "execution_count": null,
      "outputs": [
        {
          "output_type": "execute_result",
          "data": {
            "text/plain": [
              "'fluroesencequencher'"
            ],
            "application/vnd.google.colaboratory.intrinsic+json": {
              "type": "string"
            }
          },
          "metadata": {},
          "execution_count": 32
        }
      ]
    },
    {
      "cell_type": "code",
      "source": [
        "#.format use#\n",
        "s=\"name :{}{}\"\n",
        "s.format(\"mohit\",\"jaiswal\")"
      ],
      "metadata": {
        "colab": {
          "base_uri": "https://localhost:8080/",
          "height": 36
        },
        "id": "TLJF2KxmNskB",
        "outputId": "7a098c61-3687-47de-cc0b-24af9b2f2366"
      },
      "execution_count": null,
      "outputs": [
        {
          "output_type": "execute_result",
          "data": {
            "text/plain": [
              "'name :mohitjaiswal'"
            ],
            "application/vnd.google.colaboratory.intrinsic+json": {
              "type": "string"
            }
          },
          "metadata": {},
          "execution_count": 33
        }
      ]
    },
    {
      "cell_type": "code",
      "source": [
        "import math\n",
        "module_attributes=dir()\n",
        "print(module_attributes)"
      ],
      "metadata": {
        "colab": {
          "base_uri": "https://localhost:8080/"
        },
        "id": "4963y_aLOB0v",
        "outputId": "646f876a-f96c-40b8-a52f-3760fe37409c"
      },
      "execution_count": null,
      "outputs": [
        {
          "output_type": "stream",
          "name": "stdout",
          "text": [
            "['In', 'Out', '_', '_11', '_12', '_13', '_16', '_18', '_24', '_26', '_27', '_28', '_29', '_30', '_31', '_32', '_33', '__', '___', '__builtin__', '__builtins__', '__doc__', '__loader__', '__name__', '__package__', '__spec__', '_dh', '_i', '_i1', '_i10', '_i11', '_i12', '_i13', '_i14', '_i15', '_i16', '_i17', '_i18', '_i19', '_i2', '_i20', '_i21', '_i22', '_i23', '_i24', '_i25', '_i26', '_i27', '_i28', '_i29', '_i3', '_i30', '_i31', '_i32', '_i33', '_i34', '_i35', '_i36', '_i37', '_i38', '_i39', '_i4', '_i40', '_i41', '_i42', '_i43', '_i44', '_i5', '_i6', '_i7', '_i8', '_i9', '_ih', '_ii', '_iii', '_oh', 'a', 'b', 'base', 'c', 'd', 'exit', 'get_ipython', 'hieght', 'math', 'maximum', 'module_attributes', 'moduleattributes', 'pie', 'quit', 'r', 's', 'y']\n"
          ]
        }
      ]
    },
    {
      "cell_type": "code",
      "source": [
        "side=int(input(\"enter side\"))\n",
        "print(\"area of square\", side*side)"
      ],
      "metadata": {
        "colab": {
          "base_uri": "https://localhost:8080/"
        },
        "id": "6ABL5RKOOejd",
        "outputId": "b12c8d6d-2c22-4e6b-f3d8-a66f1388d0cc"
      },
      "execution_count": null,
      "outputs": [
        {
          "output_type": "stream",
          "name": "stdout",
          "text": [
            "enter side8\n",
            "area of square 64\n"
          ]
        }
      ]
    },
    {
      "cell_type": "code",
      "source": [
        "#celcius to fahrienhiet\n",
        "celcius=int(input(\"\"))\n",
        "print(\"changing celcius into fahrienhiet=\",(celcius*9/5) + 32.24 )"
      ],
      "metadata": {
        "id": "lA5pwbm-P_PO"
      },
      "execution_count": null,
      "outputs": []
    },
    {
      "cell_type": "code",
      "source": [
        "#simple interest\n",
        "p=float(input(\"enter p:\"))\n",
        "r=float(input(\"enter r:\"))\n",
        "t=float(input(\"enter t:\"))\n",
        "print(\"simple interest=\",(p*r*t)/100)"
      ],
      "metadata": {
        "colab": {
          "base_uri": "https://localhost:8080/"
        },
        "id": "FNy1pxHwQfHA",
        "outputId": "a0cda776-b753-4a77-911a-4efd43f2fbf7"
      },
      "execution_count": null,
      "outputs": [
        {
          "output_type": "stream",
          "name": "stdout",
          "text": [
            "enter p:4500.998\n",
            "enter r:5.5\n",
            "enter t:2\n",
            "simple interest= 495.10977999999994\n"
          ]
        }
      ]
    },
    {
      "cell_type": "code",
      "source": [
        "#day count\n",
        "age=int(input(\"age:\"))\n",
        "print(\"days are=\",age*365)"
      ],
      "metadata": {
        "colab": {
          "base_uri": "https://localhost:8080/"
        },
        "id": "Oa8wKO0SSXHX",
        "outputId": "9e01debd-ee10-46b2-c04e-155e3f53c341"
      },
      "execution_count": null,
      "outputs": [
        {
          "output_type": "stream",
          "name": "stdout",
          "text": [
            "age:20\n",
            "days are= 7300\n"
          ]
        }
      ]
    },
    {
      "cell_type": "code",
      "source": [
        "#hour count\n",
        "age=int(input(\"age:\"))\n",
        "print(\"hours are=\",age*365*24)"
      ],
      "metadata": {
        "colab": {
          "base_uri": "https://localhost:8080/"
        },
        "outputId": "94fd1748-1be5-4c2f-f8bf-0c1e23d00bbc",
        "id": "L-L5TE9tUpyj"
      },
      "execution_count": null,
      "outputs": [
        {
          "output_type": "stream",
          "name": "stdout",
          "text": [
            "age:20\n",
            "hours are= 175200\n"
          ]
        }
      ]
    },
    {
      "cell_type": "code",
      "source": [
        "#eligibility for vote\n",
        "age=int(input(\"age is:\"))\n",
        "if age>18:\n",
        "  print(\"eligible\")\n",
        "  print(\"drive\")\n",
        "\n",
        "else:\n",
        "  print(\"not eligible\")"
      ],
      "metadata": {
        "colab": {
          "base_uri": "https://localhost:8080/"
        },
        "id": "UNvNqFsVU2ma",
        "outputId": "2298d640-d457-4573-9ce8-fed85e31d79d"
      },
      "execution_count": null,
      "outputs": [
        {
          "output_type": "stream",
          "name": "stdout",
          "text": [
            "age is:20\n",
            "eligible\n",
            "drive\n"
          ]
        }
      ]
    },
    {
      "cell_type": "code",
      "source": [
        "#age division category\n",
        "age=int(input(\"age is:\"))\n",
        "if (age>18):\n",
        "  print(\"adult\")\n",
        "\n",
        "elif(age<18) and (age>13):\n",
        "  print(\"teenage\")\n",
        "\n",
        "else:\n",
        "  print(\"kid\")"
      ],
      "metadata": {
        "colab": {
          "base_uri": "https://localhost:8080/"
        },
        "id": "svNuIi3YVc6r",
        "outputId": "7df28759-6c6b-4336-d35c-da98dbf73aab"
      },
      "execution_count": null,
      "outputs": [
        {
          "output_type": "stream",
          "name": "stdout",
          "text": [
            "age is:20\n",
            "adult\n"
          ]
        }
      ]
    },
    {
      "cell_type": "code",
      "source": [
        "#finding for prime\n",
        "num=int(input(\"enter number :\"))\n",
        "print(\"the following prime is \", num*6+1)\n",
        "print(\"the following prime is \", num*6-1)\n"
      ],
      "metadata": {
        "id": "4LM-4KHSWXks"
      },
      "execution_count": null,
      "outputs": []
    },
    {
      "cell_type": "code",
      "source": [
        "#light year calc\n",
        "distance=int(input(\"enter distance\"))\n",
        "light year=300000\n",
        "print(\"the distance is :\",distance*light year)\n"
      ],
      "metadata": {
        "id": "YCrpEPEvZLuw"
      },
      "execution_count": null,
      "outputs": []
    },
    {
      "cell_type": "code",
      "source": [
        "print(\"hello\")"
      ],
      "metadata": {
        "id": "m4e1rDsMooCI"
      },
      "execution_count": null,
      "outputs": []
    },
    {
      "cell_type": "code",
      "source": [],
      "metadata": {
        "id": "Gf-wI-09op8g"
      },
      "execution_count": null,
      "outputs": []
    }
  ]
}